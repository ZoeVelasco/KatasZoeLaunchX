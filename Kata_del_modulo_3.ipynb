{
 "cells": [
  {
   "cell_type": "markdown",
   "metadata": {},
   "source": [
    "# Advertencia si un asteroide se acerca a la Tierra demasiado rápido"
   ]
  },
  {
   "cell_type": "markdown",
   "metadata": {},
   "source": [
    "Problema No.1"
   ]
  },
  {
   "cell_type": "code",
   "execution_count": 7,
   "metadata": {},
   "outputs": [
    {
     "name": "stdout",
     "output_type": "stream",
     "text": [
      "¡Alerta! ¡Un asteroide se acerca a velocidades peligrosas!\n"
     ]
    }
   ],
   "source": [
    "asteroide = 49\n",
    "if asteroide > 25:\n",
    "    print('¡Alerta! ¡Un asteroide se acerca a velocidades peligrosas!')\n",
    "else:\n",
    "    print('¡No hay ningun peligro, sigue con tu vida!')"
   ]
  },
  {
   "cell_type": "markdown",
   "metadata": {},
   "source": [
    "Problema No.2"
   ]
  },
  {
   "cell_type": "code",
   "execution_count": 5,
   "metadata": {},
   "outputs": [
    {
     "name": "stdout",
     "output_type": "stream",
     "text": [
      "No hay nada en el cielo\n"
     ]
    }
   ],
   "source": [
    "asteroide = 19\n",
    "if asteroide > 20:\n",
    "    print('¡Busca la luz en el cielo!')\n",
    "elif asteroide == 20:\n",
    "    print('¡Busca la luz en el cielo!')\n",
    "else:\n",
    "    print('No hay nada en el cielo')"
   ]
  },
  {
   "cell_type": "markdown",
   "metadata": {},
   "source": [
    "Problema No.3"
   ]
  },
  {
   "cell_type": "code",
   "execution_count": 6,
   "metadata": {},
   "outputs": [
    {
     "name": "stdout",
     "output_type": "stream",
     "text": [
      "¡Busca la luz en el cielo!\n"
     ]
    }
   ],
   "source": [
    "velocidad_a = 25\n",
    "tamano_a = 40\n",
    "if velocidad_a > 25 and tamano_a > 25:\n",
    "    print('¡Alerta, un peligroso asteroide se dirige hacia la Tierra!')\n",
    "elif velocidad_a >= 20:\n",
    "    print('¡Busca la luz en el cielo!')\n",
    "elif tamano_a < 25:\n",
    "    print('No hay nada en el cielo')\n",
    "else:\n",
    "    print('No hay nada en el cielo')"
   ]
  },
  {
   "cell_type": "code",
   "execution_count": 5,
   "metadata": {},
   "outputs": [
    {
     "name": "stdout",
     "output_type": "stream",
     "text": [
      "¡Alerta, un peligroso asteroide se dirige hacia la Tierra!\n"
     ]
    }
   ],
   "source": [
    "velocidad_a = 30\n",
    "tamano_a = 40\n",
    "if velocidad_a > 25 and tamano_a > 25:\n",
    "    print('¡Alerta, un peligroso asteroide se dirige hacia la Tierra!')\n",
    "elif velocidad_a >= 20:\n",
    "    print('¡Busca la luz en el cielo!')\n",
    "elif tamano_a < 25:\n",
    "    print('No hay nada en el cielo')\n",
    "else:\n",
    "    print('No hay nada en el cielo')"
   ]
  },
  {
   "cell_type": "code",
   "execution_count": 9,
   "metadata": {},
   "outputs": [
    {
     "name": "stdout",
     "output_type": "stream",
     "text": [
      "No hay nada en el cielo\n"
     ]
    }
   ],
   "source": [
    "velocidad_a = 19\n",
    "tamano_a = 15\n",
    "if velocidad_a > 25 and tamano_a > 25:\n",
    "    print('¡Alerta, un peligroso asteroide se dirige hacia la Tierra!')\n",
    "elif velocidad_a >= 20:\n",
    "    print('¡Busca la luz en el cielo!')\n",
    "elif tamano_a < 25:\n",
    "    print('No hay nada en el cielo')\n",
    "else:\n",
    "    print('No hay nada en el cielo')"
   ]
  }
 ],
 "metadata": {
  "interpreter": {
   "hash": "0cba474e7825f64be150054d33f41c13189b23e3584ee774a895505ffe3f9592"
  },
  "kernelspec": {
   "display_name": "Python 3.10.2 64-bit",
   "language": "python",
   "name": "python3"
  },
  "language_info": {
   "codemirror_mode": {
    "name": "ipython",
    "version": 3
   },
   "file_extension": ".py",
   "mimetype": "text/x-python",
   "name": "python",
   "nbconvert_exporter": "python",
   "pygments_lexer": "ipython3",
   "version": "3.10.2"
  },
  "orig_nbformat": 4
 },
 "nbformat": 4,
 "nbformat_minor": 2
}
