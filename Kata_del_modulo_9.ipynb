{
 "cells": [
  {
   "cell_type": "markdown",
   "metadata": {},
   "source": [
    "Ejercicio 1: Trabajar con argumentos en funciones"
   ]
  },
  {
   "cell_type": "code",
   "execution_count": 14,
   "metadata": {},
   "outputs": [],
   "source": [
    "def generate_report(main_tank, second_tank, external_tank):\n",
    "    total_average = (main_tank + second_tank + external_tank) / 3\n",
    "    return f\"\"\"Fuel Report:\n",
    "    Total Average: {total_average}%\n",
    "    Main tank: {main_tank}%\n",
    "    External tank: {second_tank}%\n",
    "    Hydrogen tank: {external_tank}% \n",
    "    \"\"\""
   ]
  },
  {
   "cell_type": "code",
   "execution_count": 20,
   "metadata": {},
   "outputs": [
    {
     "name": "stdout",
     "output_type": "stream",
     "text": [
      "Fuel Report:\n",
      "    Total Average: 77.33333333333333%\n",
      "    Main tank: 75%\n",
      "    External tank: 77%\n",
      "    Hydrogen tank: 80% \n",
      "    \n"
     ]
    }
   ],
   "source": [
    "print(generate_report(75, 77, 80))"
   ]
  },
  {
   "cell_type": "code",
   "execution_count": 19,
   "metadata": {},
   "outputs": [
    {
     "data": {
      "text/plain": [
       "82.0"
      ]
     },
     "execution_count": 19,
     "metadata": {},
     "output_type": "execute_result"
    }
   ],
   "source": [
    "def average(values):\n",
    "    total = sum(values)\n",
    "    number_of_items = len (values)\n",
    "    return total / number_of_items\n",
    "average([80, 85, 81]) "
   ]
  },
  {
   "cell_type": "code",
   "execution_count": 21,
   "metadata": {},
   "outputs": [],
   "source": [
    "def generate_report(main_tank, second_tank, external_tank):\n",
    "    return f\"\"\"Fuel Report:\n",
    "    Total Average: {average([main_tank, second_tank, external_tank])}%\n",
    "    Main tank: {main_tank}%\n",
    "    External tank: {second_tank}%\n",
    "    Hydrogen tank: {external_tank}% \n",
    "    \"\"\""
   ]
  },
  {
   "cell_type": "code",
   "execution_count": 22,
   "metadata": {},
   "outputs": [
    {
     "name": "stdout",
     "output_type": "stream",
     "text": [
      "Fuel Report:\n",
      "    Total Average: 80.33333333333333%\n",
      "    Main tank: 77%\n",
      "    External tank: 89%\n",
      "    Hydrogen tank: 75% \n",
      "    \n"
     ]
    }
   ],
   "source": [
    "print(generate_report(77, 89, 75))"
   ]
  },
  {
   "cell_type": "markdown",
   "metadata": {},
   "source": [
    "Ejercicio 2: Trabajar con argumentos depalabras clave en funciones"
   ]
  },
  {
   "cell_type": "code",
   "execution_count": 33,
   "metadata": {},
   "outputs": [
    {
     "name": "stdout",
     "output_type": "stream",
     "text": [
      "\n",
      "    Mission to Mars\n",
      "    Total travel time: 61 minutes\n",
      "    Total fuel left: 750000 gallons\n",
      "    \n"
     ]
    }
   ],
   "source": [
    "def mission_report(pre_launch_time, flight_time, destination, external_tank, main_tank):\n",
    "    return f\"\"\"\n",
    "    Mission to {destination}\n",
    "    Total travel time: {pre_launch_time + flight_time} minutes\n",
    "    Total fuel left: {external_tank + main_tank} gallons\n",
    "    \"\"\"\n",
    "\n",
    "print(mission_report(10, 51, \"Mars\", 300000, 450000))"
   ]
  },
  {
   "cell_type": "code",
   "execution_count": 34,
   "metadata": {},
   "outputs": [
    {
     "name": "stdout",
     "output_type": "stream",
     "text": [
      "\n",
      "    Mission to Mars\n",
      "    Total travel time: 75 minutes\n",
      "    Total fuel left: 750000\n",
      "    \n"
     ]
    }
   ],
   "source": [
    "def mission_report(destination, *minutes, **fuel_reservoirs):\n",
    "    return f\"\"\"\n",
    "    Mission to {destination}\n",
    "    Total travel time: {sum(minutes)} minutes\n",
    "    Total fuel left: {sum(fuel_reservoirs.values())}\n",
    "    \"\"\"\n",
    "\n",
    "print(mission_report(\"Mars\", 12, 12, 51, main=450000, external=300000))"
   ]
  },
  {
   "cell_type": "code",
   "execution_count": 35,
   "metadata": {},
   "outputs": [
    {
     "name": "stdout",
     "output_type": "stream",
     "text": [
      "\n",
      "    Mission to Mars\n",
      "    Total travel time: 71 minutes\n",
      "    Total fuel left: 750000\n",
      "    main tank --> 450000 gallons left\n",
      "external tank --> 300000 gallons left\n",
      "\n"
     ]
    }
   ],
   "source": [
    "def mission_report(destination, *minutes, **fuel_reservoirs):\n",
    "    main_report = f\"\"\"\n",
    "    Mission to {destination}\n",
    "    Total travel time: {sum(minutes)} minutes\n",
    "    Total fuel left: {sum(fuel_reservoirs.values())}\n",
    "    \"\"\"\n",
    "    for tank_name, gallons in fuel_reservoirs.items():\n",
    "        main_report += f\"{tank_name} tank --> {gallons} gallons left\\n\"\n",
    "    return main_report\n",
    "\n",
    "print(mission_report(\"Mars\", 6, 10, 55, main=450000, external=300000))"
   ]
  }
 ],
 "metadata": {
  "interpreter": {
   "hash": "0cba474e7825f64be150054d33f41c13189b23e3584ee774a895505ffe3f9592"
  },
  "kernelspec": {
   "display_name": "Python 3.10.2 64-bit",
   "language": "python",
   "name": "python3"
  },
  "language_info": {
   "codemirror_mode": {
    "name": "ipython",
    "version": 3
   },
   "file_extension": ".py",
   "mimetype": "text/x-python",
   "name": "python",
   "nbconvert_exporter": "python",
   "pygments_lexer": "ipython3",
   "version": "3.10.2"
  },
  "orig_nbformat": 4
 },
 "nbformat": 4,
 "nbformat_minor": 2
}
